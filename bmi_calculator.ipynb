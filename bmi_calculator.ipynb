{
 "cells": [
  {
   "cell_type": "markdown",
   "metadata": {},
   "source": [
    "#### Body Mass Index (BMI)\n",
    "Body Mass Index, or BMI is a measurement of body fat based on height and weight <br> It can be calculated using kilogramme and $m^2$ <br>\n",
    "Mathematically: <br>\n",
    "BMI = (weight in kg)/(height in $m^2$)"
   ]
  },
  {
   "cell_type": "code",
   "execution_count": 5,
   "metadata": {},
   "outputs": [],
   "source": [
    "# Design a BMI Calculator...\n",
    "# BMI = Weight/Height (kg/m2)\n",
    "rating = {\n",
    "    'Under 18.5': {'Classification': 'Underweight', 'Health Risk': 'Minimal'},\n",
    "    '18.5 - 24.9': {'Classification': 'Normal Weight', 'Health Risk': 'Minimal'},\n",
    "    '25 - 29.9': {'Classification': 'Overweight', 'Health Risk': 'Increased'},\n",
    "    '30 - 34.9': {'Classification': 'Obese', 'Health Risk': 'High'},\n",
    "    '35 - 39.9': {'Classification': 'Severely Obese', 'Health Risk': 'Very High'},\n",
    "    '40 and Over': {'Classification': 'Morbidity Obese', 'Health Risk': 'Extremely High'},\n",
    "} \n",
    "def bmi_calculator(weight, height):\n",
    "    calculate_bmi = weight/height\n",
    "    if calculate_bmi < 18.5:\n",
    "        print(f\"Your BMI: {calculate_bmi} \\n\", rating['Under 18.5'])\n",
    "    elif 18.5 <= calculate_bmi <= 24.9:\n",
    "        print(f\"Your BMI: {calculate_bmi} \\n\", rating['18.5 - 24.9'])\n",
    "    elif 25 <= calculate_bmi <= 29.9:\n",
    "        print(f\"Your BMI: {calculate_bmi} \\n\", rating['25 - 29.9'])\n",
    "    elif 30 <= calculate_bmi <= 34.9:\n",
    "        print(f\"Your BMI: {calculate_bmi} \\n\", rating['30 - 34.9'])\n",
    "    elif 35 <= calculate_bmi <= 39.9:\n",
    "        print(f\"Your BMI: {calculate_bmi} \\n\", rating['35 - 39.9'])\n",
    "    else:\n",
    "        print(f\"Your BMI: {calculate_bmi} \\n\", rating['40 and Over'])"
   ]
  },
  {
   "cell_type": "code",
   "execution_count": 7,
   "metadata": {},
   "outputs": [
    {
     "name": "stdout",
     "output_type": "stream",
     "text": [
      "Your BMI: 100.0 \n",
      " {'Classification': 'Morbidity Obese', 'Health Risk': 'Extremely High'}\n"
     ]
    }
   ],
   "source": [
    "# BMI - Calculator\n",
    "weight = int(input(\"Enter weight in kg \"))\n",
    "height = int(input(\"Enter height in m2 \"))\n",
    "bmi_calculator(weight, height)"
   ]
  }
 ],
 "metadata": {
  "kernelspec": {
   "display_name": "Python 3",
   "language": "python",
   "name": "python3"
  },
  "language_info": {
   "codemirror_mode": {
    "name": "ipython",
    "version": 3
   },
   "file_extension": ".py",
   "mimetype": "text/x-python",
   "name": "python",
   "nbconvert_exporter": "python",
   "pygments_lexer": "ipython3",
   "version": "3.10.0"
  }
 },
 "nbformat": 4,
 "nbformat_minor": 2
}
